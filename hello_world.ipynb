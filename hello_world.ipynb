{
 "cells": [
  {
   "cell_type": "code",
   "execution_count": 1,
   "id": "6c2494c1",
   "metadata": {
    "execution": {
     "iopub.execute_input": "2024-10-19T04:22:20.941602Z",
     "iopub.status.busy": "2024-10-19T04:22:20.941427Z",
     "iopub.status.idle": "2024-10-19T04:22:21.290660Z",
     "shell.execute_reply": "2024-10-19T04:22:21.290367Z"
    }
   },
   "outputs": [
    {
     "name": "stdout",
     "output_type": "stream",
     "text": [
      "Note: you may need to restart the kernel to use updated packages.\n"
     ]
    }
   ],
   "source": [
    "%pip -q install requests"
   ]
  },
  {
   "cell_type": "code",
   "execution_count": 2,
   "id": "71639394",
   "metadata": {
    "execution": {
     "iopub.execute_input": "2024-10-19T04:22:21.291583Z",
     "iopub.status.busy": "2024-10-19T04:22:21.291456Z",
     "iopub.status.idle": "2024-10-19T04:22:21.293330Z",
     "shell.execute_reply": "2024-10-19T04:22:21.293106Z"
    }
   },
   "outputs": [
    {
     "name": "stdout",
     "output_type": "stream",
     "text": [
      "Hello, World!\n"
     ]
    }
   ],
   "source": [
    "print('Hello, World!')"
   ]
  },
  {
   "cell_type": "code",
   "execution_count": 3,
   "id": "1fbf1fea",
   "metadata": {
    "execution": {
     "iopub.execute_input": "2024-10-19T04:22:21.294216Z",
     "iopub.status.busy": "2024-10-19T04:22:21.294070Z",
     "iopub.status.idle": "2024-10-19T04:22:21.328182Z",
     "shell.execute_reply": "2024-10-19T04:22:21.327900Z"
    }
   },
   "outputs": [],
   "source": [
    "import requests"
   ]
  },
  {
   "cell_type": "code",
   "execution_count": 4,
   "id": "8f309dfd",
   "metadata": {
    "execution": {
     "iopub.execute_input": "2024-10-19T04:22:21.329032Z",
     "iopub.status.busy": "2024-10-19T04:22:21.328921Z",
     "iopub.status.idle": "2024-10-19T04:22:21.425959Z",
     "shell.execute_reply": "2024-10-19T04:22:21.425736Z"
    }
   },
   "outputs": [
    {
     "data": {
      "text/plain": [
       "<Response [200]>"
      ]
     },
     "execution_count": 4,
     "metadata": {},
     "output_type": "execute_result"
    }
   ],
   "source": [
    "requests.get('https://www.google.com')"
   ]
  }
 ],
 "metadata": {
  "language_info": {
   "codemirror_mode": {
    "name": "ipython",
    "version": 3
   },
   "file_extension": ".py",
   "mimetype": "text/x-python",
   "name": "python",
   "nbconvert_exporter": "python",
   "pygments_lexer": "ipython3",
   "version": "3.12.7"
  }
 },
 "nbformat": 4,
 "nbformat_minor": 5
}
